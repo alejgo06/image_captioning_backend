{
 "cells": [
  {
   "cell_type": "code",
   "execution_count": 1,
   "metadata": {},
   "outputs": [
    {
     "name": "stdout",
     "output_type": "stream",
     "text": [
      "version 2\n"
     ]
    }
   ],
   "source": [
    "import cv2\n",
    "import numpy as np\n",
    "import os\n",
    "import torch\n",
    "from model import EncoderCNN, DecoderRNN\n",
    "import pickle\n",
    "import matplotlib.pyplot as plt\n",
    "%matplotlib inline"
   ]
  },
  {
   "cell_type": "code",
   "execution_count": null,
   "metadata": {},
   "outputs": [],
   "source": [
    "embed_size = 256#<-\n",
    "hidden_size = 512#<-\n",
    "vocab_size = 9955\n",
    "encoder_file = 'v3encoder-4.pkl' \n",
    "decoder_file = 'v3decoder-4.pkl'"
   ]
  },
  {
   "cell_type": "code",
   "execution_count": null,
   "metadata": {},
   "outputs": [],
   "source": [
    "path=input()"
   ]
  },
  {
   "cell_type": "code",
   "execution_count": null,
   "metadata": {},
   "outputs": [],
   "source": [
    "encoder = EncoderCNN(embed_size)\n",
    "encoder.eval()\n",
    "decoder = DecoderRNN(embed_size, hidden_size, vocab_size)\n",
    "decoder.eval()"
   ]
  },
  {
   "cell_type": "code",
   "execution_count": null,
   "metadata": {},
   "outputs": [],
   "source": [
    "device = torch.device(\"cuda\" if torch.cuda.is_available() else \"cpu\")"
   ]
  },
  {
   "cell_type": "code",
   "execution_count": null,
   "metadata": {},
   "outputs": [],
   "source": [
    "# Load the trained weights.\n",
    "encoder.load_state_dict(torch.load(os.path.join('', encoder_file)))\n",
    "decoder.load_state_dict(torch.load(os.path.join('', decoder_file)))\n",
    "# Move models to GPU if CUDA is available.\n",
    "encoder.to(device)\n",
    "print(encoder.to(device))\n",
    "decoder.to(device)\n",
    "print(decoder.to(device))"
   ]
  },
  {
   "cell_type": "code",
   "execution_count": null,
   "metadata": {},
   "outputs": [],
   "source": [
    "dicctionary= pickle.load( open( \"dicctionary.pkl\", \"rb\" ) )"
   ]
  },
  {
   "cell_type": "code",
   "execution_count": null,
   "metadata": {},
   "outputs": [],
   "source": [
    "def clean_sentence(output,dicttionary):\n",
    "    sentence=[]\n",
    "    for i in output:\n",
    "        sentence.append(dicctionary[i])\n",
    "    indices = [i for i, s in enumerate(sentence) if '<end>' in s]\n",
    "    sentence=sentence[1:indices[0]]\n",
    "    sentence=' '.join(sentence)\n",
    "    return sentence"
   ]
  },
  {
   "cell_type": "code",
   "execution_count": null,
   "metadata": {},
   "outputs": [],
   "source": [
    "for file in np.random.choice(os.listdir(path), 1,replace=False):\n",
    "\n",
    "    path_to_file=path+file\n",
    "    imgoriginal=cv2.imread(path_to_file)\n",
    "    im=imgoriginal.copy()\n",
    "    im=im/255\n",
    "    im=torch.tensor(im.transpose(2, 0, 1),dtype=torch.float32)\n",
    "    encoder.eval()\n",
    "    with torch.no_grad():\n",
    "        image = im.to(device)\n",
    "        # Obtain the embedded image features.\n",
    "        features = encoder(image.unsqueeze(0)).unsqueeze(1)\n",
    "        # Pass the embedded image features through the model to get a predicted caption.\n",
    "    output = decoder.sample(features)\n",
    "    sentence = clean_sentence(output,dicctionary)\n",
    "    print('example sentence:', sentence)\n",
    "    plt.imshow(cv2.cvtColor(imgoriginal, cv2.COLOR_BGR2RGB))\n",
    "    plt.show()"
   ]
  },
  {
   "cell_type": "code",
   "execution_count": null,
   "metadata": {},
   "outputs": [],
   "source": [
    "path_to_file"
   ]
  },
  {
   "cell_type": "code",
   "execution_count": null,
   "metadata": {},
   "outputs": [],
   "source": []
  }
 ],
 "metadata": {
  "kernelspec": {
   "display_name": "Python 3",
   "language": "python",
   "name": "python3"
  },
  "language_info": {
   "codemirror_mode": {
    "name": "ipython",
    "version": 3
   },
   "file_extension": ".py",
   "mimetype": "text/x-python",
   "name": "python",
   "nbconvert_exporter": "python",
   "pygments_lexer": "ipython3",
   "version": "3.7.7"
  }
 },
 "nbformat": 4,
 "nbformat_minor": 4
}
